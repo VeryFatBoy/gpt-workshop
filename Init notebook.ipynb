{
 "cells": [
  {
   "cell_type": "markdown",
   "metadata": {
    "cell_id": "7aa2a21636be410093c6294e8f3c7db6",
    "deepnote_cell_type": "markdown"
   },
   "source": [
    "## Initialization Notebook\n",
    "This is your initialization notebook.\n",
    "\n",
    "**What's this for?**\n",
    "\n",
    "You can put custom code you want us to run every time we setup your environment in here. \n",
    "\n",
    "**Awesome! Anything I should not put in here?**\n",
    "\n",
    "Please don't install `jupyter` or `jedi` packages, they would break your Deepnote environment. Also, no need to put `!pip install`s here, we already save those automatically!\n",
    "\n",
    "**I want to learn more!**\n",
    "\n",
    "Great! Just [head over to our docs](https://deepnote.com/docs/custom-initialization)."
   ]
  },
  {
   "cell_type": "code",
   "execution_count": null,
   "metadata": {
    "cell_id": "444b3d1ac6ee4f14b937b39ffa1cdbb3",
    "deepnote_cell_type": "code",
    "deepnote_to_be_reexecuted": false,
    "execution_millis": 7123,
    "execution_start": 1681790126722,
    "output_cleared": true,
    "source_hash": "60b37886"
   },
   "outputs": [],
   "source": [
    "%%bash\n",
    "# If your project has a 'requirements.txt' file, we'll install it here apart from blacklisted packages that interfere with Deepnote (see above).\n",
    "if test -f requirements.txt\n",
    "  then\n",
    "    sed -i '/jedi/d;/jupyter/d;' ./requirements.txt\n",
    "    pip install -r ./requirements.txt\n",
    "  else echo \"There's no requirements.txt, so nothing to install. This is the case with most projects.\"\n",
    "fi"
   ]
  }
 ],
 "metadata": {
  "deepnote": {},
  "deepnote_execution_queue": [],
  "deepnote_notebook_id": "3541cd465dd1416bb73f4302d82ccce9",
  "kernelspec": {
   "display_name": "Python 3 (ipykernel)",
   "language": "python",
   "name": "python3"
  },
  "language_info": {
   "codemirror_mode": {
    "name": "ipython",
    "version": 3
   },
   "file_extension": ".py",
   "mimetype": "text/x-python",
   "name": "python",
   "nbconvert_exporter": "python",
   "pygments_lexer": "ipython3",
   "version": "3.8.10"
  }
 },
 "nbformat": 4,
 "nbformat_minor": 1
}
